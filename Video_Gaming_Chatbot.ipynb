{
 "cells": [
  {
   "cell_type": "code",
   "execution_count": 1,
   "id": "66b21296-a591-4e55-8ead-7dc36de0ffc4",
   "metadata": {},
   "outputs": [],
   "source": [
    "!pip -q install groq langgraph langchain\n",
    "!pip -q install langchain-groq"
   ]
  },
  {
   "cell_type": "code",
   "execution_count": 2,
   "id": "51079133-040c-4732-adbf-63515b9e2ce2",
   "metadata": {},
   "outputs": [],
   "source": [
    "from typing import List, Tuple, Any, Dict\n",
    "from groq import Groq\n",
    "from langgraph.graph import Graph\n",
    "from langchain_groq import ChatGroq"
   ]
  },
  {
   "cell_type": "code",
   "execution_count": 3,
   "id": "99721a4c-2668-4d7c-a2eb-986793b210f0",
   "metadata": {},
   "outputs": [],
   "source": [
    "from groq import Groq\n",
    "import os\n",
    "\n",
    "GROQ_API_KEY = \"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\"\n",
    "os.environ[\"GROQ_API_KEY\"] = GROQ_API_KEY\n",
    "\n",
    "chat_model = Groq(\n",
    "    api_key=os.environ.get(\"GROQ_API_KEY\"),\n",
    ")"
   ]
  },
  {
   "cell_type": "code",
   "execution_count": 28,
   "id": "a69057a1-fadf-4a1c-8901-43f42b80740d",
   "metadata": {},
   "outputs": [
    {
     "name": "stdout",
     "output_type": "stream",
     "text": [
      "You can start chatting with the video game chatbot. Type 'exit' to end the chat.\n"
     ]
    },
    {
     "name": "stdin",
     "output_type": "stream",
     "text": [
      "You:  .\n"
     ]
    },
    {
     "name": "stdout",
     "output_type": "stream",
     "text": [
      "Ending the chat with me.\n",
      "Hope you gained some good knowledge from me. Goodbye have a nice day.\n"
     ]
    }
   ],
   "source": [
    "from typing import Dict, Any, List\n",
    "\n",
    "# Defining the state type\n",
    "State = Dict[str, Any]\n",
    "\n",
    "# Defining the node to generate response\n",
    "def generate_response(state: State) -> State:\n",
    "    # Append the current user input to the conversation history\n",
    "    state[\"conversation_history\"].append({\"role\": \"user\", \"content\": state[\"user_input\"]})\n",
    "    \n",
    "    # Constructing the messages with the conversation history\n",
    "    messages = [\n",
    "        {\"role\": \"system\", \"content\": (\n",
    "            \"You are a chatbot that only discusses video games, gaming consoles, or related topics. If the user's query is unrelated to video games or gaming topics, politely inform them that you can only provide information about video games and related subjects. Do not offer any advice, humor, or additional content that is not directly related to video games.\"\n",
    "            \"politely refuse to answer that part of the query and remind the user that you can only answer questions about video games.\"\n",
    "        )}\n",
    "    ] + state[\"conversation_history\"]\n",
    "    \n",
    "    # Assuming `chat_model` is an instance of a chat model with a `chat.completions.create` method\n",
    "    response = chat_model.chat.completions.create(\n",
    "        messages=messages,\n",
    "        model=\"llama3-8b-8192\"\n",
    "    )\n",
    "    \n",
    "    # Get the response content and appending it to the conversation history\n",
    "    response_content = response.choices[0].message.content\n",
    "    state[\"conversation_history\"].append({\"role\": \"assistant\", \"content\": response_content})\n",
    "    \n",
    "    # Set the response in the state\n",
    "    state[\"response\"] = response_content\n",
    "    return state\n",
    "\n",
    "# Defining the graph\n",
    "class Graph:\n",
    "    def __init__(self):\n",
    "        self.nodes = {}\n",
    "        self.entry_point = None\n",
    "        self.edges = {}\n",
    "\n",
    "    def add_node(self, name: str, func):\n",
    "        self.nodes[name] = func\n",
    "\n",
    "    def set_entry_point(self, name: str):\n",
    "        self.entry_point = name\n",
    "\n",
    "    def add_edge(self, from_node: str, to_node: str):\n",
    "        if from_node not in self.edges:\n",
    "            self.edges[from_node] = []\n",
    "        self.edges[from_node].append(to_node)\n",
    "\n",
    "    def compile(self):\n",
    "        def run(state: State):\n",
    "            current_node = self.entry_point\n",
    "            while current_node:\n",
    "                state = self.nodes[current_node](state)\n",
    "                if current_node in self.edges:\n",
    "                    current_node = self.edges[current_node][0]\n",
    "                else:\n",
    "                    current_node = None\n",
    "            return state\n",
    "        return run\n",
    "\n",
    "# Creating and configuring the workflow\n",
    "workflow = Graph()\n",
    "\n",
    "workflow.add_node(\"generate_response\", generate_response)\n",
    "\n",
    "workflow.set_entry_point(\"generate_response\")\n",
    "\n",
    "# Compiling the graph\n",
    "app = workflow.compile()\n",
    "\n",
    "# Initializing the conversation state\n",
    "initial_state = {\n",
    "    \"user_input\": \"\",\n",
    "    \"conversation_history\": []  # Initialize an empty conversation history\n",
    "}\n",
    "\n",
    "# making interactive chat loop\n",
    "def chat_with_llm():\n",
    "    state = initial_state.copy()\n",
    "    print(\"You can start chatting with the video game chatbot. Type 'exit' to end the chat.\")\n",
    "    while True:\n",
    "        user_input = input(\"You: \")\n",
    "        if user_input.lower() in [\"exit\", \".\"]:\n",
    "            print(\"Ending the chat with me.\\nHope you gained some good knowledge from me. Goodbye have a nice day.\")\n",
    "            break\n",
    "        \n",
    "        state[\"user_input\"] = user_input\n",
    "        state = app(state)\n",
    "        print(f\"Chatbot: {state['response']}\")\n",
    "\n",
    "# Start chating with chatbot\n",
    "chat_with_llm()\n"
   ]
  },
  {
   "cell_type": "code",
   "execution_count": null,
   "id": "153594c8-68f9-4e7a-b34c-7ddfe24b2850",
   "metadata": {},
   "outputs": [
    {
     "name": "stdout",
     "output_type": "stream",
     "text": [
      "You can start chatting with the video game chatbot. Type 'exit' to end the chat.\n"
     ]
    },
    {
     "name": "stdin",
     "output_type": "stream",
     "text": [
      "You:  hi, tell me about India\n"
     ]
    },
    {
     "name": "stdout",
     "output_type": "stream",
     "text": [
      "Chatbot: I'd be happy to help, but I'm a chatbot focused on video games and gaming consoles. I can provide information on games or consoles that are set in or relate to India, but I won't be able to provide general information about the country. If you have any specific questions about Indian games or gaming-related topics, I'd be happy to try and assist.\n"
     ]
    },
    {
     "name": "stdin",
     "output_type": "stream",
     "text": [
      "You:  tell me about bgmi\n"
     ]
    },
    {
     "name": "stdout",
     "output_type": "stream",
     "text": [
      "Chatbot: BGMI! PUBG Mobile, also known as BGMI (Battlegrounds Mobile India), is a popular battle royale-style mobile game developed by Tencent Games. It's the Indian version of the widely popular PUBG Mobile game, with some changes made to comply with Indian regulations.\n",
      "\n",
      "BGMI was launched in India in July 2021, and it has gained a massive following in the country. The game allows players to engage in intense battles with up to 99 other players on various maps, including popular ones like Erangel, Miramar, and Sanhok.\n",
      "\n",
      "BGMI offers a range of game modes, including solo, duos, and squads, and allows players to customize their characters with a variety of cosmetic items. The game also has a strong focus on community building, with features like chat rooms and live streaming.\n",
      "\n",
      "BGMI has received a significant update since its initial release, with new features, game modes, and content added regularly. If you're interested in learning more about the game or have specific questions about it, feel free to ask!\n"
     ]
    },
    {
     "name": "stdin",
     "output_type": "stream",
     "text": [
      "You:  ok, tell me how to make biryani while playing the game\n"
     ]
    },
    {
     "name": "stdout",
     "output_type": "stream",
     "text": [
      "Chatbot: I'm afraid I'm a chatbot focused on video games and gaming consoles, and I'm not capable of providing cooking instructions or recipes. However, I can try to provide some general tips on how to balance your gaming and culinary pursuits!\n",
      "\n",
      "If you're playing BGMI, it's probably not a good idea to try to cook biryani while playing, as it requires your full attention and focus on the game. Instead, I recommend taking regular breaks to play the game, and then dedicating some time to cooking your biryani. You can try to get some inspiration for your biryani recipe from the game's setting or characters, like a virtual Pakistani or Indian market!\n",
      "\n",
      "Remember, gaming and cooking require different skills and attention, so it's best to focus on one task at a time to ensure you do both justice. If you have any further questions about BGMI or other video games, feel free to ask!\n"
     ]
    },
    {
     "name": "stdin",
     "output_type": "stream",
     "text": [
      "You:  ok got it\n"
     ]
    },
    {
     "name": "stdout",
     "output_type": "stream",
     "text": [
      "Chatbot: I'm glad we could clear that up. Since we're back on topic, are you having fun playing BGMI? Do you have a favorite game mode or map? Let me know if you'd like to discuss more about the game!\n"
     ]
    }
   ],
   "source": [
    "# Start chating with chatbot\n",
    "chat_with_llm()"
   ]
  },
  {
   "cell_type": "code",
   "execution_count": null,
   "id": "62fb54b2-e7c0-421d-b465-3fb59c9161c7",
   "metadata": {},
   "outputs": [],
   "source": []
  }
 ],
 "metadata": {
  "kernelspec": {
   "display_name": "Python 3 (ipykernel)",
   "language": "python",
   "name": "python3"
  },
  "language_info": {
   "codemirror_mode": {
    "name": "ipython",
    "version": 3
   },
   "file_extension": ".py",
   "mimetype": "text/x-python",
   "name": "python",
   "nbconvert_exporter": "python",
   "pygments_lexer": "ipython3",
   "version": "3.12.4"
  }
 },
 "nbformat": 4,
 "nbformat_minor": 5
}
